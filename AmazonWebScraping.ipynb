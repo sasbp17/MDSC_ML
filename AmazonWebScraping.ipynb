{
  "cells": [
    {
      "cell_type": "code",
      "execution_count": null,
      "metadata": {
        "colab": {
          "base_uri": "https://localhost:8080/"
        },
        "id": "Dnu2rrKpTA6P",
        "outputId": "891a6a43-b40a-46e8-df93-3046e7c64491"
      },
      "outputs": [
        {
          "output_type": "stream",
          "name": "stdout",
          "text": [
            "Mounted at /content/drive\n"
          ]
        }
      ],
      "source": [
        "import sys\n",
        "from google.colab import drive\n",
        "drive.mount(f'/content/drive')\n",
        "sys.path.append('/content/drive/My Drive/Colab Notebooks/DL')"
      ]
    },
    {
      "cell_type": "code",
      "execution_count": null,
      "metadata": {
        "colab": {
          "base_uri": "https://localhost:8080/"
        },
        "id": "flzTXI9nLVE6",
        "outputId": "c1720d7d-c550-4b86-b8ab-f290f3100d18"
      },
      "outputs": [
        {
          "output_type": "stream",
          "name": "stdout",
          "text": [
            "Reading package lists... Done\n",
            "Building dependency tree       \n",
            "Reading state information... Done\n",
            "The following package was automatically installed and is no longer required:\n",
            "  libnvidia-common-460\n",
            "Use 'apt autoremove' to remove it.\n",
            "The following additional packages will be installed:\n",
            "  chromium-browser chromium-browser-l10n chromium-codecs-ffmpeg-extra\n",
            "Suggested packages:\n",
            "  webaccounts-chromium-extension unity-chromium-extension\n",
            "The following NEW packages will be installed:\n",
            "  chromium-browser chromium-browser-l10n chromium-chromedriver\n",
            "  chromium-codecs-ffmpeg-extra\n",
            "0 upgraded, 4 newly installed, 0 to remove and 12 not upgraded.\n",
            "Need to get 91.7 MB of archives.\n",
            "After this operation, 309 MB of additional disk space will be used.\n",
            "Get:1 http://archive.ubuntu.com/ubuntu bionic-updates/universe amd64 chromium-codecs-ffmpeg-extra amd64 105.0.5195.102-0ubuntu0.18.04.1 [1,156 kB]\n",
            "Get:2 http://archive.ubuntu.com/ubuntu bionic-updates/universe amd64 chromium-browser amd64 105.0.5195.102-0ubuntu0.18.04.1 [80.1 MB]\n",
            "Get:3 http://archive.ubuntu.com/ubuntu bionic-updates/universe amd64 chromium-browser-l10n all 105.0.5195.102-0ubuntu0.18.04.1 [5,097 kB]\n",
            "Get:4 http://archive.ubuntu.com/ubuntu bionic-updates/universe amd64 chromium-chromedriver amd64 105.0.5195.102-0ubuntu0.18.04.1 [5,320 kB]\n",
            "Fetched 91.7 MB in 2s (45.9 MB/s)\n",
            "Selecting previously unselected package chromium-codecs-ffmpeg-extra.\n",
            "(Reading database ... 123934 files and directories currently installed.)\n",
            "Preparing to unpack .../chromium-codecs-ffmpeg-extra_105.0.5195.102-0ubuntu0.18.04.1_amd64.deb ...\n",
            "Unpacking chromium-codecs-ffmpeg-extra (105.0.5195.102-0ubuntu0.18.04.1) ...\n",
            "Selecting previously unselected package chromium-browser.\n",
            "Preparing to unpack .../chromium-browser_105.0.5195.102-0ubuntu0.18.04.1_amd64.deb ...\n",
            "Unpacking chromium-browser (105.0.5195.102-0ubuntu0.18.04.1) ...\n",
            "Selecting previously unselected package chromium-browser-l10n.\n",
            "Preparing to unpack .../chromium-browser-l10n_105.0.5195.102-0ubuntu0.18.04.1_all.deb ...\n",
            "Unpacking chromium-browser-l10n (105.0.5195.102-0ubuntu0.18.04.1) ...\n",
            "Selecting previously unselected package chromium-chromedriver.\n",
            "Preparing to unpack .../chromium-chromedriver_105.0.5195.102-0ubuntu0.18.04.1_amd64.deb ...\n",
            "Unpacking chromium-chromedriver (105.0.5195.102-0ubuntu0.18.04.1) ...\n",
            "Setting up chromium-codecs-ffmpeg-extra (105.0.5195.102-0ubuntu0.18.04.1) ...\n",
            "Setting up chromium-browser (105.0.5195.102-0ubuntu0.18.04.1) ...\n",
            "update-alternatives: using /usr/bin/chromium-browser to provide /usr/bin/x-www-browser (x-www-browser) in auto mode\n",
            "update-alternatives: using /usr/bin/chromium-browser to provide /usr/bin/gnome-www-browser (gnome-www-browser) in auto mode\n",
            "Setting up chromium-chromedriver (105.0.5195.102-0ubuntu0.18.04.1) ...\n",
            "Setting up chromium-browser-l10n (105.0.5195.102-0ubuntu0.18.04.1) ...\n",
            "Processing triggers for man-db (2.8.3-2ubuntu0.1) ...\n",
            "Processing triggers for hicolor-icon-theme (0.17-2) ...\n",
            "Processing triggers for mime-support (3.60ubuntu1) ...\n",
            "Processing triggers for libc-bin (2.27-3ubuntu1.6) ...\n"
          ]
        }
      ],
      "source": [
        "#!apt-get update --fix-missing\n",
        "!apt install chromium-chromedriver"
      ]
    },
    {
      "cell_type": "code",
      "source": [
        "!pip install selenium"
      ],
      "metadata": {
        "colab": {
          "base_uri": "https://localhost:8080/"
        },
        "id": "c6yf7mIrUIl8",
        "outputId": "6422a585-6d1d-4cbc-c608-bd8d37f6f59b"
      },
      "execution_count": null,
      "outputs": [
        {
          "output_type": "stream",
          "name": "stdout",
          "text": [
            "Looking in indexes: https://pypi.org/simple, https://us-python.pkg.dev/colab-wheels/public/simple/\n",
            "Collecting selenium\n",
            "  Downloading selenium-4.5.0-py3-none-any.whl (995 kB)\n",
            "\u001b[K     |████████████████████████████████| 995 kB 5.4 MB/s \n",
            "\u001b[?25hCollecting trio~=0.17\n",
            "  Downloading trio-0.22.0-py3-none-any.whl (384 kB)\n",
            "\u001b[K     |████████████████████████████████| 384 kB 47.8 MB/s \n",
            "\u001b[?25hRequirement already satisfied: certifi>=2021.10.8 in /usr/local/lib/python3.7/dist-packages (from selenium) (2022.9.24)\n",
            "Collecting urllib3[socks]~=1.26\n",
            "  Downloading urllib3-1.26.12-py2.py3-none-any.whl (140 kB)\n",
            "\u001b[K     |████████████████████████████████| 140 kB 50.1 MB/s \n",
            "\u001b[?25hCollecting trio-websocket~=0.9\n",
            "  Downloading trio_websocket-0.9.2-py3-none-any.whl (16 kB)\n",
            "Collecting async-generator>=1.9\n",
            "  Downloading async_generator-1.10-py3-none-any.whl (18 kB)\n",
            "Requirement already satisfied: idna in /usr/local/lib/python3.7/dist-packages (from trio~=0.17->selenium) (2.10)\n",
            "Collecting sniffio\n",
            "  Downloading sniffio-1.3.0-py3-none-any.whl (10 kB)\n",
            "Collecting outcome\n",
            "  Downloading outcome-1.2.0-py2.py3-none-any.whl (9.7 kB)\n",
            "Requirement already satisfied: sortedcontainers in /usr/local/lib/python3.7/dist-packages (from trio~=0.17->selenium) (2.4.0)\n",
            "Collecting exceptiongroup>=1.0.0rc9\n",
            "  Downloading exceptiongroup-1.0.0rc9-py3-none-any.whl (12 kB)\n",
            "Requirement already satisfied: attrs>=19.2.0 in /usr/local/lib/python3.7/dist-packages (from trio~=0.17->selenium) (22.1.0)\n",
            "Collecting wsproto>=0.14\n",
            "  Downloading wsproto-1.2.0-py3-none-any.whl (24 kB)\n",
            "Requirement already satisfied: PySocks!=1.5.7,<2.0,>=1.5.6 in /usr/local/lib/python3.7/dist-packages (from urllib3[socks]~=1.26->selenium) (1.7.1)\n",
            "Collecting h11<1,>=0.9.0\n",
            "  Downloading h11-0.14.0-py3-none-any.whl (58 kB)\n",
            "\u001b[K     |████████████████████████████████| 58 kB 5.7 MB/s \n",
            "\u001b[?25hRequirement already satisfied: typing-extensions in /usr/local/lib/python3.7/dist-packages (from h11<1,>=0.9.0->wsproto>=0.14->trio-websocket~=0.9->selenium) (4.1.1)\n",
            "Installing collected packages: sniffio, outcome, h11, exceptiongroup, async-generator, wsproto, urllib3, trio, trio-websocket, selenium\n",
            "  Attempting uninstall: urllib3\n",
            "    Found existing installation: urllib3 1.24.3\n",
            "    Uninstalling urllib3-1.24.3:\n",
            "      Successfully uninstalled urllib3-1.24.3\n",
            "\u001b[31mERROR: pip's dependency resolver does not currently take into account all the packages that are installed. This behaviour is the source of the following dependency conflicts.\n",
            "requests 2.23.0 requires urllib3!=1.25.0,!=1.25.1,<1.26,>=1.21.1, but you have urllib3 1.26.12 which is incompatible.\u001b[0m\n",
            "Successfully installed async-generator-1.10 exceptiongroup-1.0.0rc9 h11-0.14.0 outcome-1.2.0 selenium-4.5.0 sniffio-1.3.0 trio-0.22.0 trio-websocket-0.9.2 urllib3-1.26.12 wsproto-1.2.0\n"
          ]
        }
      ]
    },
    {
      "cell_type": "code",
      "execution_count": null,
      "metadata": {
        "id": "H3-keXVtSwEn",
        "colab": {
          "base_uri": "https://localhost:8080/"
        },
        "outputId": "6839030d-4301-44f5-f37b-cb88b0e6b186"
      },
      "outputs": [
        {
          "output_type": "stream",
          "name": "stderr",
          "text": [
            "/usr/local/lib/python3.7/dist-packages/requests/__init__.py:91: RequestsDependencyWarning: urllib3 (1.26.12) or chardet (3.0.4) doesn't match a supported version!\n",
            "  RequestsDependencyWarning)\n"
          ]
        }
      ],
      "source": [
        "#load the libraries\n",
        "import csv \n",
        "from bs4 import BeautifulSoup\n",
        "from time import sleep\n",
        "import pandas as pd\n",
        "from datetime import datetime\n",
        "import re\n",
        "import requests\n",
        "import io\n",
        "import PIL\n",
        "from PIL import Image\n",
        "import requests\n",
        "import os\n",
        "import time\n",
        "from threading import Thread\n",
        "from concurrent.futures import ThreadPoolExecutor\n",
        "from selenium import webdriver\n",
        "from selenium.webdriver.common.action_chains import ActionChains\n",
        "from selenium.webdriver.common.keys import Keys\n",
        "from selenium.webdriver.common.by import By\n",
        "from selenium.common.exceptions import NoSuchElementException\n",
        "from selenium.webdriver.remote.webelement import WebElement\n",
        "from selenium.common.exceptions import NoSuchElementException, TimeoutException\n",
        "from selenium.webdriver.support import expected_conditions as EC\n",
        "from selenium.webdriver.support.ui import WebDriverWait\n",
        "from selenium.webdriver.common.desired_capabilities import DesiredCapabilities"
      ]
    },
    {
      "cell_type": "code",
      "execution_count": null,
      "metadata": {
        "id": "5ChxhritSzzQ"
      },
      "outputs": [],
      "source": [
        "def driver_setup():\n",
        "    options = webdriver.ChromeOptions()\n",
        "    options.add_argument('--headless')\n",
        "    options.add_argument('--no-sandbox')\n",
        "    options.add_argument('--disable-dev-shm-usage')\n",
        "    driver = webdriver.Chrome('chromedriver',options=options)\n",
        "    driver.set_window_size(1600, 1200)\n",
        "    return driver"
      ]
    },
    {
      "cell_type": "code",
      "execution_count": null,
      "metadata": {
        "id": "kfKr5q17S1-T"
      },
      "outputs": [],
      "source": [
        "driver = driver_setup()"
      ]
    },
    {
      "cell_type": "code",
      "execution_count": null,
      "metadata": {
        "id": "Z2HnApPIiDKY",
        "colab": {
          "base_uri": "https://localhost:8080/"
        },
        "outputId": "b90f3d59-8596-4d2d-9e35-ed1457bb846d"
      },
      "outputs": [
        {
          "output_type": "stream",
          "name": "stdout",
          "text": [
            "Page: %d 1\n",
            "Page: %d 2\n",
            "Page: %d 3\n",
            "Page: %d 4\n",
            "Page: %d 5\n",
            "Page: %d 6\n",
            "Page: %d 7\n",
            "Page: %d 8\n",
            "Page: %d 9\n",
            "Page: %d 10\n",
            "Page: %d 11\n",
            "Page: %d 12\n",
            "Page: %d 13\n",
            "Page: %d 14\n",
            "Page: %d 15\n",
            "Page: %d 16\n",
            "Page: %d 17\n",
            "Page: %d 18\n",
            "Page: %d 19\n",
            "Page: %d 20\n",
            "Page: %d 21\n",
            "Page: %d 22\n",
            "Page: %d 23\n",
            "Page: %d 24\n",
            "Page: %d 25\n",
            "Page: %d 26\n",
            "Page: %d 27\n",
            "Page: %d 28\n",
            "Page: %d 29\n",
            "Page: %d 30\n",
            "Page: %d 31\n",
            "Page: %d 32\n",
            "Page: %d 33\n",
            "Page: %d 34\n",
            "Page: %d 35\n",
            "Page: %d 36\n",
            "Page: %d 37\n",
            "Page: %d 38\n",
            "Page: %d 39\n",
            "Page: %d 40\n",
            "Page: %d 41\n",
            "Page: %d 42\n",
            "Page: %d 43\n",
            "Page: %d 44\n",
            "Page: %d 45\n",
            "Page: %d 46\n",
            "Page: %d 47\n",
            "Page: %d 48\n",
            "Page: %d 49\n",
            "Page: %d 50\n",
            "Page: %d 51\n",
            "Page: %d 52\n",
            "Page: %d 53\n",
            "Page: %d 54\n",
            "Page: %d 55\n",
            "Page: %d 56\n",
            "Page: %d 57\n",
            "Page: %d 58\n",
            "Page: %d 59\n",
            "Page: %d 60\n",
            "Page: %d 61\n",
            "Page: %d 62\n",
            "Page: %d 63\n",
            "Page: %d 64\n",
            "Page: %d 65\n",
            "Page: %d 66\n",
            "Page: %d 67\n",
            "Page: %d 68\n",
            "Page: %d 69\n",
            "Page: %d 70\n",
            "Page: %d 71\n",
            "Page: %d 72\n",
            "Page: %d 73\n",
            "Page: %d 74\n",
            "Page: %d 75\n",
            "Page: %d 76\n",
            "Page: %d 77\n",
            "Page: %d 78\n",
            "Page: %d 79\n",
            "Page: %d 80\n",
            "Page: %d 81\n",
            "Page: %d 82\n",
            "Page: %d 83\n",
            "Page: %d 84\n",
            "Page: %d 85\n",
            "Page: %d 86\n",
            "Page: %d 87\n",
            "Page: %d 88\n",
            "Page: %d 89\n",
            "Page: %d 90\n",
            "Page: %d 91\n",
            "Page: %d 92\n",
            "Page: %d 93\n",
            "Page: %d 94\n",
            "Page: %d 95\n",
            "Page: %d 96\n",
            "Page: %d 97\n",
            "Page: %d 98\n",
            "Page: %d 99\n",
            "Page: %d 100\n",
            "Page: %d 101\n",
            "Page: %d 102\n",
            "Page: %d 103\n",
            "Page: %d 104\n",
            "Page: %d 105\n",
            "Page: %d 106\n",
            "Page: %d 107\n",
            "Page: %d 108\n",
            "Page: %d 109\n",
            "Page: %d 110\n",
            "Page: %d 111\n",
            "Page: %d 112\n",
            "Page: %d 113\n",
            "Page: %d 114\n",
            "Page: %d 115\n",
            "Page: %d 116\n",
            "Page: %d 117\n",
            "Page: %d 118\n",
            "Page: %d 119\n",
            "Page: %d 120\n",
            "Page: %d 121\n",
            "Page: %d 122\n",
            "Page: %d 123\n",
            "Page: %d 124\n",
            "Page: %d 125\n",
            "Page: %d 126\n",
            "Page: %d 127\n",
            "Page: %d 128\n",
            "Page: %d 129\n",
            "Page: %d 130\n",
            "Page: %d 131\n",
            "Page: %d 132\n",
            "Page: %d 133\n",
            "Page: %d 134\n",
            "Page: %d 135\n",
            "Page: %d 136\n",
            "Page: %d 137\n",
            "Page: %d 138\n",
            "Page: %d 139\n",
            "Page: %d 140\n",
            "Page: %d 141\n",
            "Page: %d 142\n",
            "Page: %d 143\n",
            "Page: %d 144\n",
            "Page: %d 145\n",
            "Page: %d 146\n",
            "Page: %d 147\n",
            "Page: %d 148\n",
            "Page: %d 149\n",
            "Page: %d 150\n",
            "Page: %d 151\n",
            "Page: %d 152\n",
            "Page: %d 153\n",
            "Page: %d 154\n",
            "Page: %d 155\n",
            "Page: %d 156\n",
            "Page: %d 157\n",
            "Page: %d 158\n",
            "Page: %d 159\n",
            "Page: %d 160\n",
            "Page: %d 161\n",
            "Page: %d 162\n",
            "Page: %d 163\n",
            "Page: %d 164\n",
            "Page: %d 165\n",
            "Page: %d 166\n",
            "Page: %d 167\n",
            "Page: %d 168\n",
            "Page: %d 169\n",
            "Page: %d 170\n",
            "Page: %d 171\n",
            "Page: %d 172\n",
            "Page: %d 173\n",
            "Page: %d 174\n",
            "Page: %d 175\n",
            "Page: %d 176\n",
            "Page: %d 177\n",
            "Page: %d 178\n",
            "Page: %d 179\n",
            "Page: %d 180\n",
            "Page: %d 181\n",
            "Page: %d 182\n",
            "Page: %d 183\n",
            "Page: %d 184\n",
            "Page: %d 185\n",
            "Page: %d 186\n",
            "Page: %d 187\n",
            "Page: %d 188\n",
            "Page: %d 189\n",
            "Page: %d 190\n",
            "Page: %d 191\n",
            "Page: %d 192\n",
            "Page: %d 193\n",
            "Page: %d 194\n",
            "Page: %d 195\n",
            "Page: %d 196\n",
            "Page: %d 197\n",
            "Page: %d 198\n",
            "Page: %d 199\n",
            "Page: %d 200\n",
            "Page: %d 201\n",
            "Page: %d 202\n",
            "Page: %d 203\n",
            "Page: %d 204\n",
            "Page: %d 205\n",
            "Page: %d 206\n",
            "Page: %d 207\n",
            "Page: %d 208\n",
            "Page: %d 209\n",
            "Page: %d 210\n",
            "Page: %d 211\n",
            "Page: %d 212\n",
            "Page: %d 213\n",
            "Page: %d 214\n",
            "Page: %d 215\n",
            "Page: %d 216\n",
            "Page: %d 217\n",
            "Page: %d 218\n",
            "Page: %d 219\n",
            "Page: %d 220\n",
            "Page: %d 221\n",
            "Page: %d 222\n",
            "Page: %d 223\n",
            "Page: %d 224\n",
            "Page: %d 225\n",
            "Page: %d 226\n",
            "Page: %d 227\n",
            "Page: %d 228\n",
            "Page: %d 229\n",
            "Page: %d 230\n",
            "Page: %d 231\n",
            "Page: %d 232\n",
            "Page: %d 233\n",
            "Page: %d 234\n",
            "Page: %d 235\n",
            "Page: %d 236\n",
            "Page: %d 237\n",
            "Page: %d 238\n",
            "Page: %d 239\n",
            "Page: %d 240\n",
            "Page: %d 241\n",
            "Page: %d 242\n",
            "Page: %d 243\n",
            "Page: %d 244\n",
            "Page: %d 245\n",
            "Page: %d 246\n",
            "Page: %d 247\n",
            "Page: %d 248\n",
            "Page: %d 249\n"
          ]
        }
      ],
      "source": [
        "df = pd.DataFrame(columns = ['review', 'rating'])\n",
        "count = 12\n",
        "for j in range(1,250):\n",
        "    url = f'https://www.amazon.in/American-Tourister-AMT-SCH-03/product-reviews/B07CGSJNML/ref=cm_cr_dp_d_show_all_btm?ie=UTF8&reviewerType=all_reviews&pageNumber={j}'\n",
        "    driver.get(url)\n",
        "    print('Page: %d', j)\n",
        "    driver.implicitly_wait(5)\n",
        "    for i in range(1, count-1):\n",
        "        try:\n",
        "            Xpath1 = f'/html/body/div[1]/div[3]/div/div[1]/div/div[1]/div[5]/div[3]/div/div[{i}]/div/div/div[2]/a[1]/i/span'\n",
        "            Xpath2 = f'/html/body/div[1]/div[3]/div/div[1]/div/div[1]/div[5]/div[3]/div/div[{i}]/div/div/div[4]/span/span'\n",
        "            star = driver.find_element(By.XPATH, Xpath1).get_attribute('innerHTML')\n",
        "            review = driver.find_element(By.XPATH, Xpath2).text\n",
        "            #if star.split()[0] in ['1.0', '2.0']:\n",
        "            #    print(star.split()[0])\n",
        "            df = df.append({'review':review, 'rating':star}, ignore_index = True)\n",
        "        except (NoSuchElementException, TimeoutException):\n",
        "            pass"
      ]
    },
    {
      "cell_type": "code",
      "execution_count": null,
      "metadata": {
        "id": "NAxs-o_gii2E",
        "colab": {
          "base_uri": "https://localhost:8080/"
        },
        "outputId": "7a1bc22d-3b3e-4200-b3bc-4bdabda2ae01"
      },
      "outputs": [
        {
          "output_type": "execute_result",
          "data": {
            "text/plain": [
              "4.0 out of 5 stars    952\n",
              "5.0 out of 5 stars    794\n",
              "3.0 out of 5 stars    347\n",
              "1.0 out of 5 stars    185\n",
              "2.0 out of 5 stars    125\n",
              "Name: rating, dtype: int64"
            ]
          },
          "metadata": {},
          "execution_count": 20
        }
      ],
      "source": [
        "df['rating'].value_counts()"
      ]
    },
    {
      "cell_type": "code",
      "source": [
        "df.info()"
      ],
      "metadata": {
        "colab": {
          "base_uri": "https://localhost:8080/"
        },
        "id": "ljFJWi5R6qm7",
        "outputId": "d7f4918b-a4f7-4c77-fc26-cdec06f733df"
      },
      "execution_count": null,
      "outputs": [
        {
          "output_type": "stream",
          "name": "stdout",
          "text": [
            "<class 'pandas.core.frame.DataFrame'>\n",
            "RangeIndex: 2403 entries, 0 to 2402\n",
            "Data columns (total 2 columns):\n",
            " #   Column  Non-Null Count  Dtype \n",
            "---  ------  --------------  ----- \n",
            " 0   review  2403 non-null   object\n",
            " 1   rating  2403 non-null   object\n",
            "dtypes: object(2)\n",
            "memory usage: 37.7+ KB\n"
          ]
        }
      ]
    },
    {
      "cell_type": "code",
      "execution_count": null,
      "metadata": {
        "id": "RIp5DfueHU3h"
      },
      "outputs": [],
      "source": [
        "df.to_csv('/content/drive/MyDrive/Colab Notebooks/Web Scraping/tourister2.csv', index = False)"
      ]
    }
  ],
  "metadata": {
    "colab": {
      "provenance": []
    },
    "kernelspec": {
      "display_name": "Python 3",
      "name": "python3"
    },
    "language_info": {
      "name": "python"
    }
  },
  "nbformat": 4,
  "nbformat_minor": 0
}